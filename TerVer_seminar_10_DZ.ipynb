{
  "nbformat": 4,
  "nbformat_minor": 0,
  "metadata": {
    "colab": {
      "provenance": [],
      "authorship_tag": "ABX9TyN3OEHWcSoBGIWezgNu4w3w",
      "include_colab_link": true
    },
    "kernelspec": {
      "name": "python3",
      "display_name": "Python 3"
    },
    "language_info": {
      "name": "python"
    }
  },
  "cells": [
    {
      "cell_type": "markdown",
      "metadata": {
        "id": "view-in-github",
        "colab_type": "text"
      },
      "source": [
        "<a href=\"https://colab.research.google.com/github/AlexeySto/TerVer_seminar_10_DZ/blob/main/TerVer_seminar_10_DZ.ipynb\" target=\"_parent\"><img src=\"https://colab.research.google.com/assets/colab-badge.svg\" alt=\"Open In Colab\"/></a>"
      ]
    },
    {
      "cell_type": "markdown",
      "source": [
        "1. Провести дисперсионный анализ для определения того, есть ли различия среднего роста среди взрослых футболистов, хоккеистов и штангистов. Даны значения роста в трех группах случайно выбранных спортсменов:\n",
        "\n",
        "Футболисты: 173, 175, 180, 178, 177, 185, 183, 182.\n",
        "\n",
        "Хоккеисты: 177, 179, 180, 188, 177, 172, 171, 184, 180.\n",
        "\n",
        "Штангисты: 172, 173, 169, 177, 166, 180, 178, 177, 172, 166, 170."
      ],
      "metadata": {
        "id": "DCCompDGXCZY"
      }
    },
    {
      "cell_type": "code",
      "source": [
        "import numpy as np\n",
        "from scipy import stats\n",
        "import matplotlib.pyplot as plt\n",
        "\n",
        "\n",
        "football_players = np.array([173, 175, 180, 178, 177, 185, 183, 182])\n",
        "hockey_players = np.array([177, 179, 180, 188, 177, 172, 171, 184, 180])\n",
        "weightlifters = np.array([172, 173, 169, 177, 166, 180, 178, 177, 172, 166, 170])\n",
        "\n",
        "athletes = list([football_players, hockey_players, weightlifters])\n",
        "k = len(athletes)\n",
        "\n",
        "athletes = np.concatenate((football_players, hockey_players, weightlifters))\n",
        "n = len(athletes)\n",
        "\n",
        "football_players_mean = np.mean(football_players)\n",
        "hockey_players_mean = np.mean(hockey_players)\n",
        "weightlifters_mean = np.mean(weightlifters)\n",
        "\n",
        "athletes_mean = np.mean(athletes)\n",
        "\n",
        "S_f = np.sum((football_players_mean - athletes_mean)**2)*len(football_players) + np.sum((hockey_players_mean - athletes_mean)**2)*len(hockey_players) + np.sum((weightlifters_mean - athletes_mean)**2)*len(weightlifters)\n",
        "\n",
        "S_ost = np.sum((football_players - football_players_mean)**2) + np.sum((hockey_players - hockey_players_mean)**2) + np.sum((weightlifters - weightlifters_mean)**2)\n",
        "\n",
        "D_f = S_f / (k - 1)\n",
        "\n",
        "D_ost = S_ost / (n - k)\n",
        "\n",
        "F_n = D_f / D_ost\n",
        "\n",
        "fvalue, pvalue = stats.f_oneway(football_players, hockey_players, weightlifters)\n",
        "\n",
        "print(\"Критерий Фишера рассчитаный в ручную: \", F_n)\n",
        "print(\"Критерий Фишера рассчитаный с помощью функции oneway: \", fvalue)\n",
        "\n",
        "if pvalue < 0.05:\n",
        "    print(\"Существуют статистически значимые различия между средними значениями.\")\n",
        "else:\n",
        "    print(\"Нет статистически значимых различий между средними значениями.\")"
      ],
      "metadata": {
        "colab": {
          "base_uri": "https://localhost:8080/"
        },
        "id": "3LHfd0FOad8q",
        "outputId": "09ade028-bf32-43fd-bd20-199351d189d2"
      },
      "execution_count": 32,
      "outputs": [
        {
          "output_type": "stream",
          "name": "stdout",
          "text": [
            "Критерий Фишера рассчитаный в ручную:  5.500053450812598\n",
            "Критерий Фишера рассчитаный с помощью функции oneway:  5.500053450812596\n",
            "Существуют статистически значимые различия между средними значениями.\n"
          ]
        }
      ]
    }
  ]
}